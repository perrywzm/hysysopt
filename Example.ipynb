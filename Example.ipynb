{
 "cells": [
  {
   "cell_type": "markdown",
   "metadata": {
    "colab_type": "text",
    "id": "4l3Vpierhb1A"
   },
   "source": [
    "This is an example IPython notebook describing how the optimizer package is used."
   ]
  },
  {
   "cell_type": "markdown",
   "metadata": {
    "colab_type": "text",
    "id": "6Znqqkl_hjbL"
   },
   "source": [
    "## Preparation"
   ]
  },
  {
   "cell_type": "markdown",
   "metadata": {},
   "source": [
    "The HYSYS file should be loaded first. For example, in this case we will optimize for a simple distillation column with two feeds (a solvent stream and a feed stream).\n",
    "\n",
    "<img src=\"images/hysyscase.PNG\" width=\"20%\" style=\"display: block;margin-left: auto;margin-right: auto;\" />"
   ]
  },
  {
   "cell_type": "markdown",
   "metadata": {
    "colab_type": "text",
    "id": "ca-pMwd6icB8"
   },
   "source": [
    "Before the optimizer can be used, some settings in HYSYS has to be changed, and some things have to be added to the HYSYS case file itself.\n",
    "\n",
    "1. HYSYS errors and warnings should be set to be output to the trace window, as any error windows would stop HYSYS from receiving any more input.\n",
    " \n",
    "2. Any HYSYS operation's solver should be set to a reasonable iteration limit or each iteration would take an excessive amount of time. A recommended value is **100**. Usually, the solver is originally set to take up to 1000 or 10000 iterations. If an operation is unable to converge, the solver would take minutes or more to finish each iteration and the optimization process will be infeasibly long.\n",
    " "
   ]
  },
  {
   "cell_type": "markdown",
   "metadata": {
    "colab_type": "text",
    "id": "YLzpjazzfsU-"
   },
   "source": [
    "The optimizer itself targets a spreadsheet which contains the controls to the HYSYS flowsheet and its variables. It must be structured in the following format:\n",
    "\n",
    "<table style=\"width:50%\">\n",
    "  <tr>\n",
    "    <td>&lt;Imported Variable&gt;</td>\n",
    "    <td>&lt;Lower Bound&gt;</td>\n",
    "    <td>&lt;Upper Bound&gt;</td>\n",
    "  </tr>\n",
    "  <tr>\n",
    "    <td> E.g. Flow Rate</td>\n",
    "    <td> 300 kgmole/hr</td>\n",
    "    <td> 1000 kgmole/hr</td>\n",
    "  </tr>\n",
    "</table>\n",
    "\n",
    "In HYSYS, it would look like:\n",
    "\n",
    "<img src=\"images/mainoptvars.PNG\" width=\"30%\" style=\"display: block;margin-left: auto;margin-right: auto;\" />\n",
    "\n",
    "Note that the values on the left column are all **imported variables**, i.e. if they are modified, the values in HYSYS itself will also be modified.\n",
    "\n",
    "If there is a column pressure variable present in the list of optimization variables, please ensure that it is the condenser pressure which is targeted. The reboiler pressure/column bottom pressure should be set on the right side in the 4th column. \n",
    "\n",
    "In HYSYS, it would look like:\n",
    "\n",
    "<img src=\"images/columnpressurevar.png\" width=\"50%\" style=\"display: block;margin-left: auto;margin-right: auto;\" />\n",
    "\n",
    "The default reboiler pressure is determined from\n",
    "\n",
    "$$P_{reb}=P_{cond} + \\Delta P_{reb} + \\Delta P_{cond} + N_{trays}\\Delta P_{tray}$$\n",
    "\n",
    "Default $\\Delta P_{tray}$ is 0.1 psi."
   ]
  },
  {
   "cell_type": "markdown",
   "metadata": {
    "colab_type": "text",
    "id": "5RGqwLNAjreh"
   },
   "source": [
    "## Launching the Optimizer"
   ]
  },
  {
   "cell_type": "markdown",
   "metadata": {
    "colab_type": "text",
    "id": "b89J3ME_jvOO"
   },
   "source": [
    "**Import the package into Python**"
   ]
  },
  {
   "cell_type": "code",
   "execution_count": 1,
   "metadata": {
    "colab": {},
    "colab_type": "code",
    "id": "k5RnhonthQHD"
   },
   "outputs": [],
   "source": [
    "import hysysopt"
   ]
  },
  {
   "cell_type": "markdown",
   "metadata": {
    "colab_type": "text",
    "id": "UF5GeqsIj7OY"
   },
   "source": [
    "**Next, initialize the optimizer, which returns a HYSYS optimizer object. This will handle our communication with the HYSYS application.**"
   ]
  },
  {
   "cell_type": "code",
   "execution_count": 2,
   "metadata": {
    "colab": {},
    "colab_type": "code",
    "id": "SxnFHSODkHDx"
   },
   "outputs": [
    {
     "name": "stdout",
     "output_type": "stream",
     "text": [
      "CONNECTING TO THE HYSYS APPLICATION ...\n",
      "No filename was supplied. Opening active document...\n",
      ">>> Hysys case file identified as hysys example.hsc\n",
      "Connection Established!\n",
      "1 distillation columns were identified!\n",
      "WARNING: Ensure that the names of the feed streams/product streams of the column are the same as those within the column subflowsheet!\n"
     ]
    }
   ],
   "source": [
    "optimizer = hysysopt.init()"
   ]
  },
  {
   "cell_type": "markdown",
   "metadata": {
    "colab_type": "text",
    "id": "ok-2FzdCkR-_"
   },
   "source": [
    "---\n",
    "\n",
    "**Connect the optimizer with the optimizer spreadsheet we have prepared earlier to get all the optimization variables.**"
   ]
  },
  {
   "cell_type": "code",
   "execution_count": 3,
   "metadata": {
    "colab": {},
    "colab_type": "code",
    "id": "O8date7QkZgo"
   },
   "outputs": [
    {
     "name": "stdout",
     "output_type": "stream",
     "text": [
      "Initializing optimization variables...\n",
      "... Acquired Variables optimizer spreadsheet object\n",
      "... Identified: Number of Stages with lb=30.0, ub=81.0\n",
      "Column condenser pressure detected! Linking bottom pressure with condenser pressure...\n",
      "Linked column reboiler pressure with cell D2. Using default 0.1psi pressure drop per tray.\n",
      "Note: Please refer to the set_column_deltaP() method to change the pressure drop calculation method.\n",
      "... Identified: Top Stage Press (kPa) with lb=120.0, ub=160.0\n",
      "... Identified: Phase - Temperature (Overall) (C) with lb=40.0, ub=120.0\n",
      "... Identified: Phase - Temperature (Overall) (C) with lb=40.0, ub=168.0\n",
      "... Identified: Phase - Molar Flow (Overall) (kgmole/h) with lb=63.0, ub=200.0\n",
      "Acquired 5 optimization variables. Please ensure that this number is correct.\n"
     ]
    }
   ],
   "source": [
    "opt_vars = optimizer.get_opt_vars('Variables')"
   ]
  },
  {
   "cell_type": "markdown",
   "metadata": {
    "colab_type": "text",
    "id": "_YWunqMnkaCe"
   },
   "source": [
    "---\n",
    "\n",
    "**If we have distillation columns, we can also add feed stage locations as optimization variables (these cannot be added to a HYSYS spreadsheet and therefore has to be manually entered). Since the number of trays of the column may change, the fraction is used instead (i.e. $\\frac{N_{feed}}{N_T}$)**"
   ]
  },
  {
   "cell_type": "code",
   "execution_count": 4,
   "metadata": {
    "colab": {},
    "colab_type": "code",
    "id": "T3s7JXtEkaGA"
   },
   "outputs": [
    {
     "name": "stdout",
     "output_type": "stream",
     "text": [
      "Adding Feed Location optimization variable...\n",
      "... Identified: Column: Feed Location (Feed), lb=0.4, ub=1\n",
      "6 variables currently identified.\n",
      "Adding Feed Location optimization variable...\n",
      "... Identified: Column: Feed Location (Solvent), lb=0.3, ub=0.6\n",
      "7 variables currently identified.\n"
     ]
    }
   ],
   "source": [
    "optimizer.optimize_feed_location('Column', 'Feed', lb_frac=0.4, ub_frac=1)\n",
    "optimizer.optimize_feed_location('Column', 'Solvent', lb_frac=0.3, ub_frac=0.6)"
   ]
  },
  {
   "cell_type": "markdown",
   "metadata": {},
   "source": [
    "---"
   ]
  },
  {
   "cell_type": "markdown",
   "metadata": {
    "colab_type": "text",
    "id": "4fFM7GF7sQ7L"
   },
   "source": [
    "**Lastly, the optimizer needs an objective function to optimize. For example, we can use the cost of the plant as the cost function, to find the setup with the lowest cost. A sample cost function file is provided, which estimates the total annualized cost of each equipment.**"
   ]
  },
  {
   "cell_type": "code",
   "execution_count": 5,
   "metadata": {
    "colab": {},
    "colab_type": "code",
    "id": "siv2Mx49sgrI"
   },
   "outputs": [
    {
     "name": "stdout",
     "output_type": "stream",
     "text": [
      "Detected distillation column as optype. Ensure the cost function handles a Column object and not the COM object itself.\n",
      "Detected heat exchangers as optype. Ensure the cost function handles the heater/cooler COM object.\n"
     ]
    }
   ],
   "source": [
    "from costing import column_cost_function, hx_cost_function\n",
    "\n",
    "optimizer.attach_cost_function(column_cost_function, optype='columns')\n",
    "optimizer.attach_cost_function(hx_cost_function, optype='heatexchangers')"
   ]
  },
  {
   "cell_type": "markdown",
   "metadata": {},
   "source": [
    "---"
   ]
  },
  {
   "cell_type": "markdown",
   "metadata": {
    "colab_type": "text",
    "id": "6syHeEBKlWp9"
   },
   "source": [
    "**After all the variables have been set, we can now launch the optimizer. The default optimization algorithm is the basic particle swarm optimization. A save location (.csv file) for the data can be set, where the entire particle swarm data will be appended to it every iteration.**"
   ]
  },
  {
   "cell_type": "code",
   "execution_count": 6,
   "metadata": {},
   "outputs": [
    {
     "name": "stdout",
     "output_type": "stream",
     "text": [
      "Number of Stages: lb=30.0 ub=81.0 unit=\n",
      "Top Stage Press: lb=120.0 ub=160.0 unit=kPa\n",
      "Phase - Temperature (Overall): lb=40.0 ub=120.0 unit=C\n",
      "Phase - Temperature (Overall): lb=40.0 ub=168.0 unit=C\n",
      "Phase - Molar Flow (Overall): lb=63.0 ub=200.0 unit=kgmole/h\n",
      "Column: Feed Location (Feed): lb=0.4 ub=1 unit=feed_location\n",
      "Column: Feed Location (Solvent): lb=0.3 ub=0.6 unit=feed_location\n"
     ]
    }
   ],
   "source": [
    "optimizer.list_params()"
   ]
  },
  {
   "cell_type": "code",
   "execution_count": 7,
   "metadata": {
    "colab": {},
    "colab_type": "code",
    "id": "tPFpe97Elpod"
   },
   "outputs": [
    {
     "name": "stdout",
     "output_type": "stream",
     "text": [
      "Current Iteration: 0 with best score of 1.877729902159931 at [ 38.21374147 137.63187471 116.07738146  78.78078478 182.83114598\n",
      "   0.81063647   0.31530501]\n",
      "Current Iteration: 1 with best score of 1.877729902159931 at [ 38.21374147 137.63187471 116.07738146  78.78078478 182.83114598\n",
      "   0.81063647   0.31530501]\n",
      "Current Iteration: 2 with best score of 1.802114713127844 at [ 35.79728228 132.09577936  80.21981398 103.55191389 143.48356512\n",
      "   0.77334794   0.4516125 ]\n",
      "Current Iteration: 3 with best score of 1.7953055538066298 at [ 36.74266466 135.09486393  85.22769792 125.29297895 168.93653044\n",
      "   0.71214183   0.35175368]\n",
      "Current Iteration: 4 with best score of 1.7953055538066298 at [ 36.74266466 135.09486393  85.22769792 125.29297895 168.93653044\n",
      "   0.71214183   0.35175368]\n"
     ]
    }
   ],
   "source": [
    "optimizer.set_save_location('data.csv')\n",
    "optimizer.run(n_iter=5, num=10, save_data=True)"
   ]
  },
  {
   "cell_type": "markdown",
   "metadata": {
    "colab_type": "text",
    "id": "jNkrat1PlpKv"
   },
   "source": [
    "---\n",
    "\n",
    "**At the end, we can set the HYSYS file to use the optimized values that we found earlier.**"
   ]
  },
  {
   "cell_type": "code",
   "execution_count": 8,
   "metadata": {
    "colab": {},
    "colab_type": "code",
    "id": "DRmt8c7vlzin"
   },
   "outputs": [],
   "source": [
    "optimizer.set_to_optimal()"
   ]
  },
  {
   "cell_type": "markdown",
   "metadata": {
    "colab_type": "text",
    "id": "v9dWbkdel2aQ"
   },
   "source": [
    "## Visualizing the optimization"
   ]
  },
  {
   "cell_type": "markdown",
   "metadata": {
    "colab_type": "text",
    "id": "FVcFpiNol3qZ"
   },
   "source": [
    "**The package also comes with a simple visualizing component with matplotlib. First, initialize the visualizer**"
   ]
  },
  {
   "cell_type": "code",
   "execution_count": 27,
   "metadata": {
    "colab": {},
    "colab_type": "code",
    "id": "RtHFthORs-6P"
   },
   "outputs": [],
   "source": [
    "import hysysopt\n",
    "visualizer = hysysopt.visualizer()"
   ]
  },
  {
   "cell_type": "markdown",
   "metadata": {
    "colab_type": "text",
    "id": "qcS96ILitH1R"
   },
   "source": [
    "**Next, load the previously saved iteration data (for this example, a dataset with more iterations is used instead). The number of optimization variables also have to be supplied for it to properly parse the data.**"
   ]
  },
  {
   "cell_type": "code",
   "execution_count": 28,
   "metadata": {
    "colab": {},
    "colab_type": "code",
    "id": "6T-U6GeRtHOt"
   },
   "outputs": [],
   "source": [
    "visualizer.load('data.csv', n_vars=8)"
   ]
  },
  {
   "cell_type": "markdown",
   "metadata": {
    "colab_type": "text",
    "id": "Wmf636n93NGj"
   },
   "source": [
    "**Some setting up and preprocessing has to be done before the data can be viewed normally:**"
   ]
  },
  {
   "cell_type": "code",
   "execution_count": 33,
   "metadata": {
    "colab": {},
    "colab_type": "code",
    "id": "CwW4NG7s3VzK"
   },
   "outputs": [],
   "source": [
    "import numpy as np\n",
    "\n",
    "# If there is any data points that could not converge, their cost is set to 1e9. This will distort the view, and hence is set to a lower, more reasonable value\n",
    "# The data is stored as a pandas dataframe and can be modified in the same way.\n",
    "visualizer.data[:, :, -1] = np.minimum(visualizer.data[:, :, -1], 5)\n",
    "\n",
    "# Labels also have to be set manually\n",
    "visualizer.xlabel = \"Column Pressure, kPa\"\n",
    "visualizer.ylabel = \"Number of Stages\"\n",
    "\n",
    "# The indices to target also should be defined beforehand\n",
    "visualizer.x_index = 0\n",
    "visualizer.y_index = 1"
   ]
  },
  {
   "cell_type": "markdown",
   "metadata": {
    "colab_type": "text",
    "id": "GkhulF_Tujm-"
   },
   "source": [
    "**We can view the particles' movement as a static sequence of images:**\n",
    "\n",
    "**(Note: the numbering choice of the images is set to be linearly spaced)**"
   ]
  },
  {
   "cell_type": "code",
   "execution_count": 34,
   "metadata": {
    "colab": {},
    "colab_type": "code",
    "id": "-mDNkDVwu30I"
   },
   "outputs": [
    {
     "data": {
      "image/png": "[encoded data removed]",
      "text/plain": [
       "<Figure size 1152x216 with 4 Axes>"
      ]
     },
     "metadata": {
      "needs_background": "light"
     },
     "output_type": "display_data"
    }
   ],
   "source": [
    "visualizer.view()"
   ]
  },
  {
   "cell_type": "markdown",
   "metadata": {
    "colab_type": "text",
    "id": "4-xmerPPuKAd"
   },
   "source": [
    "**Or we can view it as an animation (currently not implemented for displaying in IPython notebooks)**"
   ]
  },
  {
   "cell_type": "code",
   "execution_count": 35,
   "metadata": {
    "colab": {},
    "colab_type": "code",
    "id": "HN5fbsywugrO"
   },
   "outputs": [
    {
     "data": {
      "image/png": "[encoded data removed]",
      "text/plain": [
       "<Figure size 432x288 with 1 Axes>"
      ]
     },
     "metadata": {
      "needs_background": "light"
     },
     "output_type": "display_data"
    }
   ],
   "source": [
    "visualizer.view_animation()"
   ]
  },
  {
   "cell_type": "markdown",
   "metadata": {
    "colab_type": "text",
    "id": "fDXKGQJpFxQ6"
   },
   "source": [
    "**We can also view the lowest cost achieved in each iteration, over time.**"
   ]
  },
  {
   "cell_type": "code",
   "execution_count": 36,
   "metadata": {
    "colab": {},
    "colab_type": "code",
    "id": "jxjAiTY2F7Gs"
   },
   "outputs": [
    {
     "data": {
      "image/png": "[encoded data removed]",
      "text/plain": [
       "<Figure size 288x216 with 1 Axes>"
      ]
     },
     "metadata": {
      "needs_background": "light"
     },
     "output_type": "display_data"
    }
   ],
   "source": [
    "visualizer.view_cost_graph()"
   ]
  }
 ],
 "metadata": {
  "colab": {
   "collapsed_sections": [],
   "name": "Untitled0.ipynb",
   "provenance": [],
   "version": "0.3.2"
  },
  "kernelspec": {
   "display_name": "Python 3",
   "language": "python",
   "name": "python3"
  },
  "language_info": {
   "codemirror_mode": {
    "name": "ipython",
    "version": 3
   },
   "file_extension": ".py",
   "mimetype": "text/x-python",
   "name": "python",
   "nbconvert_exporter": "python",
   "pygments_lexer": "ipython3",
   "version": "3.7.1"
  }
 },
 "nbformat": 4,
 "nbformat_minor": 2
}
